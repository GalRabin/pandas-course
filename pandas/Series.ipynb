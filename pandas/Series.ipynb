{
 "cells": [
  {
   "cell_type": "code",
   "execution_count": 1,
   "id": "0c24d430",
   "metadata": {},
   "outputs": [],
   "source": [
    "import pandas as pd"
   ]
  },
  {
   "cell_type": "markdown",
   "id": "574b2232",
   "metadata": {},
   "source": [
    "# Series\n",
    "Series should be a column in tabular world"
   ]
  },
  {
   "cell_type": "markdown",
   "id": "0a1b0f28",
   "metadata": {},
   "source": [
    "## Create series from list"
   ]
  },
  {
   "cell_type": "markdown",
   "id": "2dcda35d",
   "metadata": {},
   "source": [
    "### String series"
   ]
  },
  {
   "cell_type": "code",
   "execution_count": 2,
   "id": "5a85212c",
   "metadata": {},
   "outputs": [
    {
     "data": {
      "text/plain": [
       "0      Choclate\n",
       "1       vanilla\n",
       "2    Strawberry\n",
       "3    Run Raisin\n",
       "dtype: object"
      ]
     },
     "execution_count": 2,
     "metadata": {},
     "output_type": "execute_result"
    }
   ],
   "source": [
    "ice_creame = [\"Choclate\", \"vanilla\", \"Strawberry\", \"Run Raisin\"]\n",
    "\n",
    "pd.Series(data=ice_creame)"
   ]
  },
  {
   "cell_type": "markdown",
   "id": "ebde1d3d",
   "metadata": {},
   "source": [
    "### Integer series"
   ]
  },
  {
   "cell_type": "code",
   "execution_count": 3,
   "id": "af9cb23e",
   "metadata": {},
   "outputs": [
    {
     "data": {
      "text/plain": [
       "0     4\n",
       "1     8\n",
       "2     9\n",
       "3    10\n",
       "dtype: int64"
      ]
     },
     "execution_count": 3,
     "metadata": {},
     "output_type": "execute_result"
    }
   ],
   "source": [
    "lottery = [4, 8, 9, 10]\n",
    "pd.Series(data=lottery)"
   ]
  },
  {
   "cell_type": "markdown",
   "id": "85e5f402",
   "metadata": {},
   "source": [
    "### Boolean series"
   ]
  },
  {
   "cell_type": "code",
   "execution_count": 4,
   "id": "b7b16923",
   "metadata": {},
   "outputs": [
    {
     "data": {
      "text/plain": [
       "gal       True\n",
       "ori       True\n",
       "miryam    True\n",
       "dtype: bool"
      ]
     },
     "execution_count": 4,
     "metadata": {},
     "output_type": "execute_result"
    }
   ],
   "source": [
    "registrations = [True, True, True]\n",
    "pd.Series(data=registrations, index=[\"gal\", \"ori\", \"miryam\"])"
   ]
  },
  {
   "cell_type": "markdown",
   "id": "df79b5c9",
   "metadata": {},
   "source": [
    "## Create series from dict"
   ]
  },
  {
   "cell_type": "markdown",
   "id": "22cd464e",
   "metadata": {},
   "source": [
    "Series can accessed by index or label from dict (aka index)"
   ]
  },
  {
   "cell_type": "code",
   "execution_count": 5,
   "id": "397f0c8c",
   "metadata": {},
   "outputs": [
    {
     "data": {
      "text/plain": [
       "Salmon    Orange\n",
       "Tuna         red\n",
       "Eel        Brown\n",
       "dtype: object"
      ]
     },
     "execution_count": 5,
     "metadata": {},
     "output_type": "execute_result"
    }
   ],
   "source": [
    "sushi = {\n",
    "    \"Salmon\": \"Orange\",\n",
    "    \"Tuna\": \"red\",\n",
    "    \"Eel\": \"Brown\"\n",
    "}\n",
    "pd.Series(data=sushi)"
   ]
  },
  {
   "cell_type": "markdown",
   "id": "42c4a33e",
   "metadata": {},
   "source": [
    "## Series methods"
   ]
  },
  {
   "cell_type": "code",
   "execution_count": 6,
   "id": "15b61bc4",
   "metadata": {},
   "outputs": [
    {
     "name": "stdout",
     "output_type": "stream",
     "text": [
      "Prices sum 10\n",
      "Prices product 24\n",
      "Prices average 2.5\n"
     ]
    }
   ],
   "source": [
    "prices = [1, 2, 3, 4]\n",
    "prices_series = pd.Series(data=prices)\n",
    "print(f\"Prices sum {prices_series.sum()}\")\n",
    "print(f\"Prices product {prices_series.product()}\")\n",
    "print(f\"Prices average {prices_series.mean()}\")"
   ]
  },
  {
   "cell_type": "markdown",
   "id": "0faa2c91",
   "metadata": {},
   "source": [
    "## Series attributes"
   ]
  },
  {
   "cell_type": "code",
   "execution_count": 7,
   "id": "ce01e9e4",
   "metadata": {},
   "outputs": [
    {
     "name": "stdout",
     "output_type": "stream",
     "text": [
      "Series dtype int64\n",
      "Series size 4\n",
      "Series element is unique True\n",
      "Series underling numpy <class 'numpy.ndarray'> [1 2 3 4]\n",
      "Series indexes <class 'pandas.core.indexes.range.RangeIndex'> RangeIndex(start=0, stop=4, step=1)\n"
     ]
    }
   ],
   "source": [
    "print(f\"Series dtype {prices_series.dtype}\")\n",
    "print(f\"Series size {prices_series.size}\")\n",
    "print(f\"Series element is unique {prices_series.is_unique}\")\n",
    "print(f\"Series underling numpy {type(prices_series.values)} {prices_series.values}\")\n",
    "print(f\"Series indexes {type(prices_series.index)} {prices_series.index}\")"
   ]
  },
  {
   "cell_type": "markdown",
   "id": "4d14f31b",
   "metadata": {},
   "source": [
    "## Paramaters and argumets\n",
    "Parameter - The name we give to an expected input\n",
    "\n",
    "Argument - The concrete value that we provide to a parameter"
   ]
  },
  {
   "cell_type": "code",
   "execution_count": 8,
   "id": "1df23ef5",
   "metadata": {},
   "outputs": [
    {
     "data": {
      "text/plain": [
       "Sunday     Apple\n",
       "Monday    Orange\n",
       "Friday      Plum\n",
       "Friday     Grape\n",
       "dtype: object"
      ]
     },
     "execution_count": 8,
     "metadata": {},
     "output_type": "execute_result"
    }
   ],
   "source": [
    "fruits = [\"Apple\", \"Orange\", \"Plum\", \"Grape\"]\n",
    "weekdays = [\"Sunday\", \"Monday\", \"Friday\", \"Friday\"]\n",
    "pd.Series(data=fruits, index=weekdays)"
   ]
  },
  {
   "cell_type": "markdown",
   "id": "5b16a903",
   "metadata": {},
   "source": [
    "## Read Series from CSV"
   ]
  },
  {
   "cell_type": "code",
   "execution_count": 9,
   "id": "939f9e2a",
   "metadata": {},
   "outputs": [
    {
     "name": "stdout",
     "output_type": "stream",
     "text": [
      "Data - Multiple Worksheets.xlsx      employees.csv\r\n",
      "Data - Single Worksheet.xlsx         foods.csv\r\n",
      "Restaurant - Customers.csv           fortune1000.csv\r\n",
      "Restaurant - Foods.csv               google_stock_price.csv\r\n",
      "Restaurant - Week 1 Sales.csv        jamesbond.csv\r\n",
      "Restaurant - Week 1 Satisfaction.csv nba.csv\r\n",
      "Restaurant - Week 2 Sales.csv        pokemon.csv\r\n",
      "Series.ipynb                         quarters.csv\r\n",
      "bigmac.csv                           revenue.csv\r\n",
      "chicago.csv                          salesmen.csv\r\n",
      "ecommerce.csv                        worldstats.csv\r\n"
     ]
    }
   ],
   "source": [
    "!ls"
   ]
  },
  {
   "cell_type": "code",
   "execution_count": 10,
   "id": "b1839cad",
   "metadata": {},
   "outputs": [],
   "source": [
    "pokemon_series = pd.read_csv(filepath_or_buffer=\"pokemon.csv\", usecols=[\"Pokemon\"]).squeeze()"
   ]
  },
  {
   "cell_type": "code",
   "execution_count": 11,
   "id": "031eef76",
   "metadata": {},
   "outputs": [],
   "source": [
    "stock_series = pd.read_csv(filepath_or_buffer=\"google_stock_price.csv\").squeeze()"
   ]
  },
  {
   "cell_type": "markdown",
   "id": "d6920c0e",
   "metadata": {},
   "source": [
    "## Head and tail "
   ]
  },
  {
   "cell_type": "code",
   "execution_count": 12,
   "id": "7c7fb528",
   "metadata": {},
   "outputs": [
    {
     "data": {
      "text/plain": [
       "0     Bulbasaur\n",
       "1       Ivysaur\n",
       "2      Venusaur\n",
       "3    Charmander\n",
       "4    Charmeleon\n",
       "5     Charizard\n",
       "6      Squirtle\n",
       "7     Wartortle\n",
       "Name: Pokemon, dtype: object"
      ]
     },
     "execution_count": 12,
     "metadata": {},
     "output_type": "execute_result"
    }
   ],
   "source": [
    "pokemon_series.head(8)"
   ]
  },
  {
   "cell_type": "code",
   "execution_count": 13,
   "id": "69d76044",
   "metadata": {},
   "outputs": [
    {
     "data": {
      "text/plain": [
       "3009    773.18\n",
       "3010    771.61\n",
       "3011    782.22\n",
       "Name: Stock Price, dtype: float64"
      ]
     },
     "execution_count": 13,
     "metadata": {},
     "output_type": "execute_result"
    }
   ],
   "source": [
    "stock_series.tail(3)"
   ]
  },
  {
   "cell_type": "markdown",
   "id": "dcc81d80",
   "metadata": {},
   "source": [
    "## Python Series to Python builtin functions"
   ]
  },
  {
   "cell_type": "code",
   "execution_count": 14,
   "id": "0aa2d20f",
   "metadata": {},
   "outputs": [
    {
     "name": "stdout",
     "output_type": "stream",
     "text": [
      "Len 721\n",
      "Type <class 'pandas.core.series.Series'>\n",
      "Dir ['T', '_AXIS_LEN', '_AXIS_ORDERS', '_AXIS_TO_AXIS_NUMBER', '_HANDLED_TYPES', '__abs__', '__add__', '__and__', '__annotations__', '__array__', '__array_priority__', '__array_ufunc__', '__array_wrap__', '__bool__', '__class__', '__contains__', '__copy__', '__deepcopy__', '__delattr__', '__delitem__', '__dict__', '__dir__', '__divmod__', '__doc__', '__eq__', '__finalize__', '__float__', '__floordiv__', '__format__', '__ge__', '__getattr__', '__getattribute__', '__getitem__', '__getstate__', '__gt__', '__hash__', '__iadd__', '__iand__', '__ifloordiv__', '__imod__', '__imul__', '__init__', '__init_subclass__', '__int__', '__invert__', '__ior__', '__ipow__', '__isub__', '__iter__', '__itruediv__', '__ixor__', '__le__', '__len__', '__long__', '__lt__', '__matmul__', '__mod__', '__module__', '__mul__', '__ne__', '__neg__', '__new__', '__nonzero__', '__or__', '__pos__', '__pow__', '__radd__', '__rand__', '__rdivmod__', '__reduce__', '__reduce_ex__', '__repr__', '__rfloordiv__', '__rmatmul__', '__rmod__', '__rmul__', '__ror__', '__round__', '__rpow__', '__rsub__', '__rtruediv__', '__rxor__', '__setattr__', '__setitem__', '__setstate__', '__sizeof__', '__str__', '__sub__', '__subclasshook__', '__truediv__', '__weakref__', '__xor__', '_accessors', '_accum_func', '_add_numeric_operations', '_agg_by_level', '_agg_examples_doc', '_agg_see_also_doc', '_align_frame', '_align_series', '_append', '_arith_method', '_as_manager', '_attrs', '_binop', '_cacher', '_can_hold_na', '_check_inplace_and_allows_duplicate_labels', '_check_inplace_setting', '_check_is_chained_assignment_possible', '_check_label_or_level_ambiguity', '_check_setitem_copy', '_clear_item_cache', '_clip_with_one_bound', '_clip_with_scalar', '_cmp_method', '_consolidate', '_consolidate_inplace', '_construct_axes_dict', '_construct_axes_from_arguments', '_construct_result', '_constructor', '_constructor_expanddim', '_convert', '_convert_dtypes', '_data', '_dir_additions', '_dir_deletions', '_drop_axis', '_drop_labels_or_levels', '_duplicated', '_find_valid_index', '_flags', '_from_mgr', '_get_axis', '_get_axis_name', '_get_axis_number', '_get_axis_resolvers', '_get_block_manager_axis', '_get_bool_data', '_get_cacher', '_get_cleaned_column_resolvers', '_get_index_resolvers', '_get_label_or_level_values', '_get_numeric_data', '_get_value', '_get_values', '_get_values_tuple', '_get_with', '_gotitem', '_hidden_attrs', '_indexed_same', '_info_axis', '_info_axis_name', '_info_axis_number', '_init_dict', '_init_mgr', '_inplace_method', '_internal_names', '_internal_names_set', '_is_cached', '_is_copy', '_is_label_or_level_reference', '_is_label_reference', '_is_level_reference', '_is_mixed_type', '_is_view', '_item_cache', '_ixs', '_logical_func', '_logical_method', '_map_values', '_maybe_update_cacher', '_memory_usage', '_metadata', '_mgr', '_min_count_stat_function', '_name', '_needs_reindex_multi', '_protect_consolidate', '_reduce', '_reindex_axes', '_reindex_indexer', '_reindex_multi', '_reindex_with_indexers', '_rename', '_replace_single', '_repr_data_resource_', '_repr_latex_', '_reset_cache', '_reset_cacher', '_set_as_cached', '_set_axis', '_set_axis_name', '_set_axis_nocheck', '_set_is_copy', '_set_labels', '_set_name', '_set_value', '_set_values', '_set_with', '_set_with_engine', '_slice', '_stat_axis', '_stat_axis_name', '_stat_axis_number', '_stat_function', '_stat_function_ddof', '_take_with_is_copy', '_typ', '_update_inplace', '_validate_dtype', '_values', '_where', 'abs', 'add', 'add_prefix', 'add_suffix', 'agg', 'aggregate', 'align', 'all', 'any', 'append', 'apply', 'argmax', 'argmin', 'argsort', 'array', 'asfreq', 'asof', 'astype', 'at', 'at_time', 'attrs', 'autocorr', 'axes', 'backfill', 'between', 'between_time', 'bfill', 'bool', 'clip', 'combine', 'combine_first', 'compare', 'convert_dtypes', 'copy', 'corr', 'count', 'cov', 'cummax', 'cummin', 'cumprod', 'cumsum', 'describe', 'diff', 'div', 'divide', 'divmod', 'dot', 'drop', 'drop_duplicates', 'droplevel', 'dropna', 'dtype', 'dtypes', 'duplicated', 'empty', 'eq', 'equals', 'ewm', 'expanding', 'explode', 'factorize', 'ffill', 'fillna', 'filter', 'first', 'first_valid_index', 'flags', 'floordiv', 'ge', 'get', 'groupby', 'gt', 'hasnans', 'head', 'hist', 'iat', 'idxmax', 'idxmin', 'iloc', 'index', 'infer_objects', 'info', 'interpolate', 'is_monotonic', 'is_monotonic_decreasing', 'is_monotonic_increasing', 'is_unique', 'isin', 'isna', 'isnull', 'item', 'items', 'iteritems', 'keys', 'kurt', 'kurtosis', 'last', 'last_valid_index', 'le', 'loc', 'lt', 'mad', 'map', 'mask', 'max', 'mean', 'median', 'memory_usage', 'min', 'mod', 'mode', 'mul', 'multiply', 'name', 'nbytes', 'ndim', 'ne', 'nlargest', 'notna', 'notnull', 'nsmallest', 'nunique', 'pad', 'pct_change', 'pipe', 'plot', 'pop', 'pow', 'prod', 'product', 'quantile', 'radd', 'rank', 'ravel', 'rdiv', 'rdivmod', 'reindex', 'reindex_like', 'rename', 'rename_axis', 'reorder_levels', 'repeat', 'replace', 'resample', 'reset_index', 'rfloordiv', 'rmod', 'rmul', 'rolling', 'round', 'rpow', 'rsub', 'rtruediv', 'sample', 'searchsorted', 'sem', 'set_axis', 'set_flags', 'shape', 'shift', 'size', 'skew', 'slice_shift', 'sort_index', 'sort_values', 'squeeze', 'std', 'str', 'sub', 'subtract', 'sum', 'swapaxes', 'swaplevel', 'tail', 'take', 'to_clipboard', 'to_csv', 'to_dict', 'to_excel', 'to_frame', 'to_hdf', 'to_json', 'to_latex', 'to_list', 'to_markdown', 'to_numpy', 'to_period', 'to_pickle', 'to_sql', 'to_string', 'to_timestamp', 'to_xarray', 'transform', 'transpose', 'truediv', 'truncate', 'tz_convert', 'tz_localize', 'unique', 'unstack', 'update', 'value_counts', 'values', 'var', 'view', 'where', 'xs']\n",
      "Sorted ['Abomasnow', 'Abra', 'Absol', 'Accelgor', 'Aegislash', 'Aerodactyl', 'Aggron', 'Aipom', 'Alakazam', 'Alomomola', 'Altaria', 'Amaura', 'Ambipom', 'Amoonguss', 'Ampharos', 'Anorith', 'Arbok', 'Arcanine', 'Arceus', 'Archen', 'Archeops', 'Ariados', 'Armaldo', 'Aromatisse', 'Aron', 'Articuno', 'Audino', 'Aurorus', 'Avalugg', 'Axew', 'Azelf', 'Azumarill', 'Azurill', 'Bagon', 'Baltoy', 'Banette', 'Barbaracle', 'Barboach', 'Basculin', 'Bastiodon', 'Bayleef', 'Beartic', 'Beautifly', 'Beedrill', 'Beheeyem', 'Beldum', 'Bellossom', 'Bellsprout', 'Bergmite', 'Bibarel', 'Bidoof', 'Binacle', 'Bisharp', 'Blastoise', 'Blaziken', 'Blissey', 'Blitzle', 'Boldore', 'Bonsly', 'Bouffalant', 'Braixen', 'Braviary', 'Breloom', 'Bronzong', 'Bronzor', 'Budew', 'Buizel', 'Bulbasaur', 'Buneary', 'Bunnelby', 'Burmy', 'Butterfree', 'Cacnea', 'Cacturne', 'Camerupt', 'Carbink', 'Carnivine', 'Carracosta', 'Carvanha', 'Cascoon', 'Castform', 'Caterpie', 'Celebi', 'Chandelure', 'Chansey', 'Charizard', 'Charmander', 'Charmeleon', 'Chatot', 'Cherrim', 'Cherubi', 'Chesnaught', 'Chespin', 'Chikorita', 'Chimchar', 'Chimecho', 'Chinchou', 'Chingling', 'Cinccino', 'Clamperl', 'Clauncher', 'Clawitzer', 'Claydol', 'Clefable', 'Clefairy', 'Cleffa', 'Cloyster', 'Cobalion', 'Cofagrigus', 'Combee', 'Combusken', 'Conkeldurr', 'Corphish', 'Corsola', 'Cottonee', 'Cradily', 'Cranidos', 'Crawdaunt', 'Cresselia', 'Croagunk', 'Crobat', 'Croconaw', 'Crustle', 'Cryogonal', 'Cubchoo', 'Cubone', 'Cyndaquil', 'Darkrai', 'Darmanitan', 'Darumaka', 'Dedenne', 'Deerling', 'Deino', 'Delcatty', 'Delibird', 'Delphox', 'Deoxys', 'Dewgong', 'Dewott', 'Dialga', 'Diancie', 'Diggersby', 'Diglett', 'Ditto', 'Dodrio', 'Doduo', 'Donphan', 'Doublade', 'Dragalge', 'Dragonair', 'Dragonite', 'Drapion', 'Dratini', 'Drifblim', 'Drifloon', 'Drilbur', 'Drowzee', 'Druddigon', 'Ducklett', 'Dugtrio', 'Dunsparce', 'Duosion', 'Durant', 'Dusclops', 'Dusknoir', 'Duskull', 'Dustox', 'Dwebble', 'Eelektrik', 'Eelektross', 'Eevee', 'Ekans', 'Electabuzz', 'Electivire', 'Electrike', 'Electrode', 'Elekid', 'Elgyem', 'Emboar', 'Emolga', 'Empoleon', 'Entei', 'Escavalier', 'Espeon', 'Espurr', 'Excadrill', 'Exeggcute', 'Exeggutor', 'Exploud', \"Farfetch'd\", 'Fearow', 'Feebas', 'Fennekin', 'Feraligatr', 'Ferroseed', 'Ferrothorn', 'Finneon', 'Flaaffy', 'Flabébé', 'Flareon', 'Fletchinder', 'Fletchling', 'Floatzel', 'Floette', 'Florges', 'Flygon', 'Foongus', 'Forretress', 'Fraxure', 'Frillish', 'Froakie', 'Frogadier', 'Froslass', 'Furfrou', 'Furret', 'Gabite', 'Gallade', 'Galvantula', 'Garbodor', 'Garchomp', 'Gardevoir', 'Gastly', 'Gastrodon', 'Genesect', 'Gengar', 'Geodude', 'Gible', 'Gigalith', 'Girafarig', 'Giratina', 'Glaceon', 'Glalie', 'Glameow', 'Gligar', 'Gliscor', 'Gloom', 'Gogoat', 'Golbat', 'Goldeen', 'Golduck', 'Golem', 'Golett', 'Golurk', 'Goodra', 'Goomy', 'Gorebyss', 'Gothita', 'Gothitelle', 'Gothorita', 'Gourgeist', 'Granbull', 'Graveler', 'Greninja', 'Grimer', 'Grotle', 'Groudon', 'Grovyle', 'Growlithe', 'Grumpig', 'Gulpin', 'Gurdurr', 'Gyarados', 'Happiny', 'Hariyama', 'Haunter', 'Hawlucha', 'Haxorus', 'Heatmor', 'Heatran', 'Heliolisk', 'Helioptile', 'Heracross', 'Herdier', 'Hippopotas', 'Hippowdon', 'Hitmonchan', 'Hitmonlee', 'Hitmontop', 'Ho-oh', 'Honchkrow', 'Honedge', 'Hoopa', 'Hoothoot', 'Hoppip', 'Horsea', 'Houndoom', 'Houndour', 'Huntail', 'Hydreigon', 'Hypno', 'Igglybuff', 'Illumise', 'Infernape', 'Inkay', 'Ivysaur', 'Jellicent', 'Jigglypuff', 'Jirachi', 'Jolteon', 'Joltik', 'Jumpluff', 'Jynx', 'Kabuto', 'Kabutops', 'Kadabra', 'Kakuna', 'Kangaskhan', 'Karrablast', 'Kecleon', 'Keldeo', 'Kingdra', 'Kingler', 'Kirlia', 'Klang', 'Klefki', 'Klink', 'Klinklang', 'Koffing', 'Krabby', 'Kricketot', 'Kricketune', 'Krokorok', 'Krookodile', 'Kyogre', 'Kyurem', 'Lairon', 'Lampent', 'Landorus', 'Lanturn', 'Lapras', 'Larvesta', 'Larvitar', 'Latias', 'Latios', 'Leafeon', 'Leavanny', 'Ledian', 'Ledyba', 'Lickilicky', 'Lickitung', 'Liepard', 'Lileep', 'Lilligant', 'Lillipup', 'Linoone', 'Litleo', 'Litwick', 'Lombre', 'Lopunny', 'Lotad', 'Loudred', 'Lucario', 'Ludicolo', 'Lugia', 'Lumineon', 'Lunatone', 'Luvdisc', 'Luxio', 'Luxray', 'Machamp', 'Machoke', 'Machop', 'Magby', 'Magcargo', 'Magikarp', 'Magmar', 'Magmortar', 'Magnemite', 'Magneton', 'Magnezone', 'Makuhita', 'Malamar', 'Mamoswine', 'Manaphy', 'Mandibuzz', 'Manectric', 'Mankey', 'Mantine', 'Mantyke', 'Maractus', 'Mareep', 'Marill', 'Marowak', 'Marshtomp', 'Masquerain', 'Mawile', 'Medicham', 'Meditite', 'Meganium', 'Meloetta', 'Meowstic', 'Meowth', 'Mesprit', 'Metagross', 'Metang', 'Metapod', 'Mew', 'Mewtwo', 'Mienfoo', 'Mienshao', 'Mightyena', 'Milotic', 'Miltank', 'Mime Jr.', 'Minccino', 'Minun', 'Misdreavus', 'Mismagius', 'Moltres', 'Monferno', 'Mothim', 'Mr. Mime', 'Mudkip', 'Muk', 'Munchlax', 'Munna', 'Murkrow', 'Musharna', 'Natu', 'Nidoking', 'Nidoqueen', 'Nidoran', 'Nidoran♂', 'Nidorina', 'Nidorino', 'Nincada', 'Ninetales', 'Ninjask', 'Noctowl', 'Noibat', 'Noivern', 'Nosepass', 'Numel', 'Nuzleaf', 'Octillery', 'Oddish', 'Omanyte', 'Omastar', 'Onix', 'Oshawott', 'Pachirisu', 'Palkia', 'Palpitoad', 'Pancham', 'Pangoro', 'Panpour', 'Pansage', 'Pansear', 'Paras', 'Parasect', 'Patrat', 'Pawniard', 'Pelipper', 'Persian', 'Petilil', 'Phanpy', 'Phantump', 'Phione', 'Pichu', 'Pidgeot', 'Pidgeotto', 'Pidgey', 'Pidove', 'Pignite', 'Pikachu', 'Piloswine', 'Pineco', 'Pinsir', 'Piplup', 'Plusle', 'Politoed', 'Poliwag', 'Poliwhirl', 'Poliwrath', 'Ponyta', 'Poochyena', 'Porygon', 'Porygon-Z', 'Porygon2', 'Primeape', 'Prinplup', 'Probopass', 'Psyduck', 'Pumpkaboo', 'Pupitar', 'Purrloin', 'Purugly', 'Pyroar', 'Quagsire', 'Quilava', 'Quilladin', 'Qwilfish', 'Raichu', 'Raikou', 'Ralts', 'Rampardos', 'Rapidash', 'Raticate', 'Rattata', 'Rayquaza', 'Regice', 'Regigigas', 'Regirock', 'Registeel', 'Relicanth', 'Remoraid', 'Reshiram', 'Reuniclus', 'Rhydon', 'Rhyhorn', 'Rhyperior', 'Riolu', 'Roggenrola', 'Roselia', 'Roserade', 'Rotom', 'Rufflet', 'Sableye', 'Salamence', 'Samurott', 'Sandile', 'Sandshrew', 'Sandslash', 'Sawk', 'Sawsbuck', 'Scatterbug', 'Sceptile', 'Scizor', 'Scolipede', 'Scrafty', 'Scraggy', 'Scyther', 'Seadra', 'Seaking', 'Sealeo', 'Seedot', 'Seel', 'Seismitoad', 'Sentret', 'Serperior', 'Servine', 'Seviper', 'Sewaddle', 'Sharpedo', 'Shaymin', 'Shedinja', 'Shelgon', 'Shellder', 'Shellos', 'Shelmet', 'Shieldon', 'Shiftry', 'Shinx', 'Shroomish', 'Shuckle', 'Shuppet', 'Sigilyph', 'Silcoon', 'Simipour', 'Simisage', 'Simisear', 'Skarmory', 'Skiddo', 'Skiploom', 'Skitty', 'Skorupi', 'Skrelp', 'Skuntank', 'Slaking', 'Slakoth', 'Sliggoo', 'Slowbro', 'Slowking', 'Slowpoke', 'Slugma', 'Slurpuff', 'Smeargle', 'Smoochum', 'Sneasel', 'Snivy', 'Snorlax', 'Snorunt', 'Snover', 'Snubbull', 'Solosis', 'Solrock', 'Spearow', 'Spewpa', 'Spheal', 'Spinarak', 'Spinda', 'Spiritomb', 'Spoink', 'Spritzee', 'Squirtle', 'Stantler', 'Staraptor', 'Staravia', 'Starly', 'Starmie', 'Staryu', 'Steelix', 'Stoutland', 'Stunfisk', 'Stunky', 'Sudowoodo', 'Suicune', 'Sunflora', 'Sunkern', 'Surskit', 'Swablu', 'Swadloon', 'Swalot', 'Swampert', 'Swanna', 'Swellow', 'Swinub', 'Swirlix', 'Swoobat', 'Sylveon', 'Taillow', 'Talonflame', 'Tangela', 'Tangrowth', 'Tauros', 'Teddiursa', 'Tentacool', 'Tentacruel', 'Tepig', 'Terrakion', 'Throh', 'Thundurus', 'Timburr', 'Tirtouga', 'Togekiss', 'Togepi', 'Togetic', 'Torchic', 'Torkoal', 'Tornadus', 'Torterra', 'Totodile', 'Toxicroak', 'Tranquill', 'Trapinch', 'Treecko', 'Trevenant', 'Tropius', 'Trubbish', 'Turtwig', 'Tympole', 'Tynamo', 'Typhlosion', 'Tyranitar', 'Tyrantrum', 'Tyrogue', 'Tyrunt', 'Umbreon', 'Unfezant', 'Unown', 'Ursaring', 'Uxie', 'Vanillish', 'Vanillite', 'Vanilluxe', 'Vaporeon', 'Venipede', 'Venomoth', 'Venonat', 'Venusaur', 'Vespiquen', 'Vibrava', 'Victini', 'Victreebel', 'Vigoroth', 'Vileplume', 'Virizion', 'Vivillon', 'Volbeat', 'Volcanion', 'Volcarona', 'Voltorb', 'Vullaby', 'Vulpix', 'Wailmer', 'Wailord', 'Walrein', 'Wartortle', 'Watchog', 'Weavile', 'Weedle', 'Weepinbell', 'Weezing', 'Whimsicott', 'Whirlipede', 'Whiscash', 'Whismur', 'Wigglytuff', 'Wingull', 'Wobbuffet', 'Woobat', 'Wooper', 'Wormadam', 'Wurmple', 'Wynaut', 'Xatu', 'Xerneas', 'Yamask', 'Yanma', 'Yanmega', 'Yveltal', 'Zangoose', 'Zapdos', 'Zebstrika', 'Zekrom', 'Zigzagoon', 'Zoroark', 'Zorua', 'Zubat', 'Zweilous', 'Zygarde']\n",
      "As dict {0: 'Bulbasaur', 1: 'Ivysaur', 2: 'Venusaur', 3: 'Charmander', 4: 'Charmeleon', 5: 'Charizard', 6: 'Squirtle', 7: 'Wartortle', 8: 'Blastoise', 9: 'Caterpie', 10: 'Metapod', 11: 'Butterfree', 12: 'Weedle', 13: 'Kakuna', 14: 'Beedrill', 15: 'Pidgey', 16: 'Pidgeotto', 17: 'Pidgeot', 18: 'Rattata', 19: 'Raticate', 20: 'Spearow', 21: 'Fearow', 22: 'Ekans', 23: 'Arbok', 24: 'Pikachu', 25: 'Raichu', 26: 'Sandshrew', 27: 'Sandslash', 28: 'Nidoran', 29: 'Nidorina', 30: 'Nidoqueen', 31: 'Nidoran♂', 32: 'Nidorino', 33: 'Nidoking', 34: 'Clefairy', 35: 'Clefable', 36: 'Vulpix', 37: 'Ninetales', 38: 'Jigglypuff', 39: 'Wigglytuff', 40: 'Zubat', 41: 'Golbat', 42: 'Oddish', 43: 'Gloom', 44: 'Vileplume', 45: 'Paras', 46: 'Parasect', 47: 'Venonat', 48: 'Venomoth', 49: 'Diglett', 50: 'Dugtrio', 51: 'Meowth', 52: 'Persian', 53: 'Psyduck', 54: 'Golduck', 55: 'Mankey', 56: 'Primeape', 57: 'Growlithe', 58: 'Arcanine', 59: 'Poliwag', 60: 'Poliwhirl', 61: 'Poliwrath', 62: 'Abra', 63: 'Kadabra', 64: 'Alakazam', 65: 'Machop', 66: 'Machoke', 67: 'Machamp', 68: 'Bellsprout', 69: 'Weepinbell', 70: 'Victreebel', 71: 'Tentacool', 72: 'Tentacruel', 73: 'Geodude', 74: 'Graveler', 75: 'Golem', 76: 'Ponyta', 77: 'Rapidash', 78: 'Slowpoke', 79: 'Slowbro', 80: 'Magnemite', 81: 'Magneton', 82: \"Farfetch'd\", 83: 'Doduo', 84: 'Dodrio', 85: 'Seel', 86: 'Dewgong', 87: 'Grimer', 88: 'Muk', 89: 'Shellder', 90: 'Cloyster', 91: 'Gastly', 92: 'Haunter', 93: 'Gengar', 94: 'Onix', 95: 'Drowzee', 96: 'Hypno', 97: 'Krabby', 98: 'Kingler', 99: 'Voltorb', 100: 'Electrode', 101: 'Exeggcute', 102: 'Exeggutor', 103: 'Cubone', 104: 'Marowak', 105: 'Hitmonlee', 106: 'Hitmonchan', 107: 'Lickitung', 108: 'Koffing', 109: 'Weezing', 110: 'Rhyhorn', 111: 'Rhydon', 112: 'Chansey', 113: 'Tangela', 114: 'Kangaskhan', 115: 'Horsea', 116: 'Seadra', 117: 'Goldeen', 118: 'Seaking', 119: 'Staryu', 120: 'Starmie', 121: 'Mr. Mime', 122: 'Scyther', 123: 'Jynx', 124: 'Electabuzz', 125: 'Magmar', 126: 'Pinsir', 127: 'Tauros', 128: 'Magikarp', 129: 'Gyarados', 130: 'Lapras', 131: 'Ditto', 132: 'Eevee', 133: 'Vaporeon', 134: 'Jolteon', 135: 'Flareon', 136: 'Porygon', 137: 'Omanyte', 138: 'Omastar', 139: 'Kabuto', 140: 'Kabutops', 141: 'Aerodactyl', 142: 'Snorlax', 143: 'Articuno', 144: 'Zapdos', 145: 'Moltres', 146: 'Dratini', 147: 'Dragonair', 148: 'Dragonite', 149: 'Mewtwo', 150: 'Mew', 151: 'Chikorita', 152: 'Bayleef', 153: 'Meganium', 154: 'Cyndaquil', 155: 'Quilava', 156: 'Typhlosion', 157: 'Totodile', 158: 'Croconaw', 159: 'Feraligatr', 160: 'Sentret', 161: 'Furret', 162: 'Hoothoot', 163: 'Noctowl', 164: 'Ledyba', 165: 'Ledian', 166: 'Spinarak', 167: 'Ariados', 168: 'Crobat', 169: 'Chinchou', 170: 'Lanturn', 171: 'Pichu', 172: 'Cleffa', 173: 'Igglybuff', 174: 'Togepi', 175: 'Togetic', 176: 'Natu', 177: 'Xatu', 178: 'Mareep', 179: 'Flaaffy', 180: 'Ampharos', 181: 'Bellossom', 182: 'Marill', 183: 'Azumarill', 184: 'Sudowoodo', 185: 'Politoed', 186: 'Hoppip', 187: 'Skiploom', 188: 'Jumpluff', 189: 'Aipom', 190: 'Sunkern', 191: 'Sunflora', 192: 'Yanma', 193: 'Wooper', 194: 'Quagsire', 195: 'Espeon', 196: 'Umbreon', 197: 'Murkrow', 198: 'Slowking', 199: 'Misdreavus', 200: 'Unown', 201: 'Wobbuffet', 202: 'Girafarig', 203: 'Pineco', 204: 'Forretress', 205: 'Dunsparce', 206: 'Gligar', 207: 'Steelix', 208: 'Snubbull', 209: 'Granbull', 210: 'Qwilfish', 211: 'Scizor', 212: 'Shuckle', 213: 'Heracross', 214: 'Sneasel', 215: 'Teddiursa', 216: 'Ursaring', 217: 'Slugma', 218: 'Magcargo', 219: 'Swinub', 220: 'Piloswine', 221: 'Corsola', 222: 'Remoraid', 223: 'Octillery', 224: 'Delibird', 225: 'Mantine', 226: 'Skarmory', 227: 'Houndour', 228: 'Houndoom', 229: 'Kingdra', 230: 'Phanpy', 231: 'Donphan', 232: 'Porygon2', 233: 'Stantler', 234: 'Smeargle', 235: 'Tyrogue', 236: 'Hitmontop', 237: 'Smoochum', 238: 'Elekid', 239: 'Magby', 240: 'Miltank', 241: 'Blissey', 242: 'Raikou', 243: 'Entei', 244: 'Suicune', 245: 'Larvitar', 246: 'Pupitar', 247: 'Tyranitar', 248: 'Lugia', 249: 'Ho-oh', 250: 'Celebi', 251: 'Treecko', 252: 'Grovyle', 253: 'Sceptile', 254: 'Torchic', 255: 'Combusken', 256: 'Blaziken', 257: 'Mudkip', 258: 'Marshtomp', 259: 'Swampert', 260: 'Poochyena', 261: 'Mightyena', 262: 'Zigzagoon', 263: 'Linoone', 264: 'Wurmple', 265: 'Silcoon', 266: 'Beautifly', 267: 'Cascoon', 268: 'Dustox', 269: 'Lotad', 270: 'Lombre', 271: 'Ludicolo', 272: 'Seedot', 273: 'Nuzleaf', 274: 'Shiftry', 275: 'Taillow', 276: 'Swellow', 277: 'Wingull', 278: 'Pelipper', 279: 'Ralts', 280: 'Kirlia', 281: 'Gardevoir', 282: 'Surskit', 283: 'Masquerain', 284: 'Shroomish', 285: 'Breloom', 286: 'Slakoth', 287: 'Vigoroth', 288: 'Slaking', 289: 'Nincada', 290: 'Ninjask', 291: 'Shedinja', 292: 'Whismur', 293: 'Loudred', 294: 'Exploud', 295: 'Makuhita', 296: 'Hariyama', 297: 'Azurill', 298: 'Nosepass', 299: 'Skitty', 300: 'Delcatty', 301: 'Sableye', 302: 'Mawile', 303: 'Aron', 304: 'Lairon', 305: 'Aggron', 306: 'Meditite', 307: 'Medicham', 308: 'Electrike', 309: 'Manectric', 310: 'Plusle', 311: 'Minun', 312: 'Volbeat', 313: 'Illumise', 314: 'Roselia', 315: 'Gulpin', 316: 'Swalot', 317: 'Carvanha', 318: 'Sharpedo', 319: 'Wailmer', 320: 'Wailord', 321: 'Numel', 322: 'Camerupt', 323: 'Torkoal', 324: 'Spoink', 325: 'Grumpig', 326: 'Spinda', 327: 'Trapinch', 328: 'Vibrava', 329: 'Flygon', 330: 'Cacnea', 331: 'Cacturne', 332: 'Swablu', 333: 'Altaria', 334: 'Zangoose', 335: 'Seviper', 336: 'Lunatone', 337: 'Solrock', 338: 'Barboach', 339: 'Whiscash', 340: 'Corphish', 341: 'Crawdaunt', 342: 'Baltoy', 343: 'Claydol', 344: 'Lileep', 345: 'Cradily', 346: 'Anorith', 347: 'Armaldo', 348: 'Feebas', 349: 'Milotic', 350: 'Castform', 351: 'Kecleon', 352: 'Shuppet', 353: 'Banette', 354: 'Duskull', 355: 'Dusclops', 356: 'Tropius', 357: 'Chimecho', 358: 'Absol', 359: 'Wynaut', 360: 'Snorunt', 361: 'Glalie', 362: 'Spheal', 363: 'Sealeo', 364: 'Walrein', 365: 'Clamperl', 366: 'Huntail', 367: 'Gorebyss', 368: 'Relicanth', 369: 'Luvdisc', 370: 'Bagon', 371: 'Shelgon', 372: 'Salamence', 373: 'Beldum', 374: 'Metang', 375: 'Metagross', 376: 'Regirock', 377: 'Regice', 378: 'Registeel', 379: 'Latias', 380: 'Latios', 381: 'Kyogre', 382: 'Groudon', 383: 'Rayquaza', 384: 'Jirachi', 385: 'Deoxys', 386: 'Turtwig', 387: 'Grotle', 388: 'Torterra', 389: 'Chimchar', 390: 'Monferno', 391: 'Infernape', 392: 'Piplup', 393: 'Prinplup', 394: 'Empoleon', 395: 'Starly', 396: 'Staravia', 397: 'Staraptor', 398: 'Bidoof', 399: 'Bibarel', 400: 'Kricketot', 401: 'Kricketune', 402: 'Shinx', 403: 'Luxio', 404: 'Luxray', 405: 'Budew', 406: 'Roserade', 407: 'Cranidos', 408: 'Rampardos', 409: 'Shieldon', 410: 'Bastiodon', 411: 'Burmy', 412: 'Wormadam', 413: 'Mothim', 414: 'Combee', 415: 'Vespiquen', 416: 'Pachirisu', 417: 'Buizel', 418: 'Floatzel', 419: 'Cherubi', 420: 'Cherrim', 421: 'Shellos', 422: 'Gastrodon', 423: 'Ambipom', 424: 'Drifloon', 425: 'Drifblim', 426: 'Buneary', 427: 'Lopunny', 428: 'Mismagius', 429: 'Honchkrow', 430: 'Glameow', 431: 'Purugly', 432: 'Chingling', 433: 'Stunky', 434: 'Skuntank', 435: 'Bronzor', 436: 'Bronzong', 437: 'Bonsly', 438: 'Mime Jr.', 439: 'Happiny', 440: 'Chatot', 441: 'Spiritomb', 442: 'Gible', 443: 'Gabite', 444: 'Garchomp', 445: 'Munchlax', 446: 'Riolu', 447: 'Lucario', 448: 'Hippopotas', 449: 'Hippowdon', 450: 'Skorupi', 451: 'Drapion', 452: 'Croagunk', 453: 'Toxicroak', 454: 'Carnivine', 455: 'Finneon', 456: 'Lumineon', 457: 'Mantyke', 458: 'Snover', 459: 'Abomasnow', 460: 'Weavile', 461: 'Magnezone', 462: 'Lickilicky', 463: 'Rhyperior', 464: 'Tangrowth', 465: 'Electivire', 466: 'Magmortar', 467: 'Togekiss', 468: 'Yanmega', 469: 'Leafeon', 470: 'Glaceon', 471: 'Gliscor', 472: 'Mamoswine', 473: 'Porygon-Z', 474: 'Gallade', 475: 'Probopass', 476: 'Dusknoir', 477: 'Froslass', 478: 'Rotom', 479: 'Uxie', 480: 'Mesprit', 481: 'Azelf', 482: 'Dialga', 483: 'Palkia', 484: 'Heatran', 485: 'Regigigas', 486: 'Giratina', 487: 'Cresselia', 488: 'Phione', 489: 'Manaphy', 490: 'Darkrai', 491: 'Shaymin', 492: 'Arceus', 493: 'Victini', 494: 'Snivy', 495: 'Servine', 496: 'Serperior', 497: 'Tepig', 498: 'Pignite', 499: 'Emboar', 500: 'Oshawott', 501: 'Dewott', 502: 'Samurott', 503: 'Patrat', 504: 'Watchog', 505: 'Lillipup', 506: 'Herdier', 507: 'Stoutland', 508: 'Purrloin', 509: 'Liepard', 510: 'Pansage', 511: 'Simisage', 512: 'Pansear', 513: 'Simisear', 514: 'Panpour', 515: 'Simipour', 516: 'Munna', 517: 'Musharna', 518: 'Pidove', 519: 'Tranquill', 520: 'Unfezant', 521: 'Blitzle', 522: 'Zebstrika', 523: 'Roggenrola', 524: 'Boldore', 525: 'Gigalith', 526: 'Woobat', 527: 'Swoobat', 528: 'Drilbur', 529: 'Excadrill', 530: 'Audino', 531: 'Timburr', 532: 'Gurdurr', 533: 'Conkeldurr', 534: 'Tympole', 535: 'Palpitoad', 536: 'Seismitoad', 537: 'Throh', 538: 'Sawk', 539: 'Sewaddle', 540: 'Swadloon', 541: 'Leavanny', 542: 'Venipede', 543: 'Whirlipede', 544: 'Scolipede', 545: 'Cottonee', 546: 'Whimsicott', 547: 'Petilil', 548: 'Lilligant', 549: 'Basculin', 550: 'Sandile', 551: 'Krokorok', 552: 'Krookodile', 553: 'Darumaka', 554: 'Darmanitan', 555: 'Maractus', 556: 'Dwebble', 557: 'Crustle', 558: 'Scraggy', 559: 'Scrafty', 560: 'Sigilyph', 561: 'Yamask', 562: 'Cofagrigus', 563: 'Tirtouga', 564: 'Carracosta', 565: 'Archen', 566: 'Archeops', 567: 'Trubbish', 568: 'Garbodor', 569: 'Zorua', 570: 'Zoroark', 571: 'Minccino', 572: 'Cinccino', 573: 'Gothita', 574: 'Gothorita', 575: 'Gothitelle', 576: 'Solosis', 577: 'Duosion', 578: 'Reuniclus', 579: 'Ducklett', 580: 'Swanna', 581: 'Vanillite', 582: 'Vanillish', 583: 'Vanilluxe', 584: 'Deerling', 585: 'Sawsbuck', 586: 'Emolga', 587: 'Karrablast', 588: 'Escavalier', 589: 'Foongus', 590: 'Amoonguss', 591: 'Frillish', 592: 'Jellicent', 593: 'Alomomola', 594: 'Joltik', 595: 'Galvantula', 596: 'Ferroseed', 597: 'Ferrothorn', 598: 'Klink', 599: 'Klang', 600: 'Klinklang', 601: 'Tynamo', 602: 'Eelektrik', 603: 'Eelektross', 604: 'Elgyem', 605: 'Beheeyem', 606: 'Litwick', 607: 'Lampent', 608: 'Chandelure', 609: 'Axew', 610: 'Fraxure', 611: 'Haxorus', 612: 'Cubchoo', 613: 'Beartic', 614: 'Cryogonal', 615: 'Shelmet', 616: 'Accelgor', 617: 'Stunfisk', 618: 'Mienfoo', 619: 'Mienshao', 620: 'Druddigon', 621: 'Golett', 622: 'Golurk', 623: 'Pawniard', 624: 'Bisharp', 625: 'Bouffalant', 626: 'Rufflet', 627: 'Braviary', 628: 'Vullaby', 629: 'Mandibuzz', 630: 'Heatmor', 631: 'Durant', 632: 'Deino', 633: 'Zweilous', 634: 'Hydreigon', 635: 'Larvesta', 636: 'Volcarona', 637: 'Cobalion', 638: 'Terrakion', 639: 'Virizion', 640: 'Tornadus', 641: 'Thundurus', 642: 'Reshiram', 643: 'Zekrom', 644: 'Landorus', 645: 'Kyurem', 646: 'Keldeo', 647: 'Meloetta', 648: 'Genesect', 649: 'Chespin', 650: 'Quilladin', 651: 'Chesnaught', 652: 'Fennekin', 653: 'Braixen', 654: 'Delphox', 655: 'Froakie', 656: 'Frogadier', 657: 'Greninja', 658: 'Bunnelby', 659: 'Diggersby', 660: 'Fletchling', 661: 'Fletchinder', 662: 'Talonflame', 663: 'Scatterbug', 664: 'Spewpa', 665: 'Vivillon', 666: 'Litleo', 667: 'Pyroar', 668: 'Flabébé', 669: 'Floette', 670: 'Florges', 671: 'Skiddo', 672: 'Gogoat', 673: 'Pancham', 674: 'Pangoro', 675: 'Furfrou', 676: 'Espurr', 677: 'Meowstic', 678: 'Honedge', 679: 'Doublade', 680: 'Aegislash', 681: 'Spritzee', 682: 'Aromatisse', 683: 'Swirlix', 684: 'Slurpuff', 685: 'Inkay', 686: 'Malamar', 687: 'Binacle', 688: 'Barbaracle', 689: 'Skrelp', 690: 'Dragalge', 691: 'Clauncher', 692: 'Clawitzer', 693: 'Helioptile', 694: 'Heliolisk', 695: 'Tyrunt', 696: 'Tyrantrum', 697: 'Amaura', 698: 'Aurorus', 699: 'Sylveon', 700: 'Hawlucha', 701: 'Dedenne', 702: 'Carbink', 703: 'Goomy', 704: 'Sliggoo', 705: 'Goodra', 706: 'Klefki', 707: 'Phantump', 708: 'Trevenant', 709: 'Pumpkaboo', 710: 'Gourgeist', 711: 'Bergmite', 712: 'Avalugg', 713: 'Noibat', 714: 'Noivern', 715: 'Xerneas', 716: 'Yveltal', 717: 'Zygarde', 718: 'Diancie', 719: 'Hoopa', 720: 'Volcanion'}\n",
      "Max 782.22\n",
      "Min 49.95\n"
     ]
    }
   ],
   "source": [
    "print(f\"Len {len(pokemon_series)}\")\n",
    "print(f\"Type {type(pokemon_series)}\")\n",
    "print(f\"Dir {dir(pokemon_series)}\")\n",
    "print(f\"Sorted {sorted(pokemon_series)}\")\n",
    "print(f\"As dict {dict(pokemon_series)}\")\n",
    "print(f\"Max {max(stock_series)}\")\n",
    "print(f\"Min {min(stock_series)}\")"
   ]
  },
  {
   "cell_type": "markdown",
   "id": "ad547d24",
   "metadata": {},
   "source": [
    "## Sort values"
   ]
  },
  {
   "cell_type": "code",
   "execution_count": 15,
   "id": "290d35c6",
   "metadata": {},
   "outputs": [
    {
     "data": {
      "text/plain": [
       "11    49.95\n",
       "9     50.07\n",
       "0     50.12\n",
       "10    50.70\n",
       "12    50.74\n",
       "Name: Stock Price, dtype: float64"
      ]
     },
     "execution_count": 15,
     "metadata": {},
     "output_type": "execute_result"
    }
   ],
   "source": [
    "stock_series.sort_values(ascending=True).head()"
   ]
  },
  {
   "cell_type": "code",
   "execution_count": 16,
   "id": "c5548f0f",
   "metadata": {},
   "outputs": [
    {
     "data": {
      "text/plain": [
       "3011    782.22\n",
       "2859    776.60\n",
       "3009    773.18\n",
       "3007    772.88\n",
       "3010    771.61\n",
       "Name: Stock Price, dtype: float64"
      ]
     },
     "execution_count": 16,
     "metadata": {},
     "output_type": "execute_result"
    }
   ],
   "source": [
    "stock_series.sort_values(ascending=False).head()"
   ]
  },
  {
   "cell_type": "markdown",
   "id": "80b2630e",
   "metadata": {},
   "source": [
    "## Sort indexes"
   ]
  },
  {
   "cell_type": "code",
   "execution_count": 18,
   "id": "4eea712c",
   "metadata": {},
   "outputs": [
    {
     "data": {
      "text/plain": [
       "3011    782.22\n",
       "3010    771.61\n",
       "3009    773.18\n",
       "3008    771.07\n",
       "3007    772.88\n",
       "         ...  \n",
       "4        52.95\n",
       "3        52.38\n",
       "2        54.65\n",
       "1        54.10\n",
       "0        50.12\n",
       "Name: Stock Price, Length: 3012, dtype: float64"
      ]
     },
     "execution_count": 18,
     "metadata": {},
     "output_type": "execute_result"
    }
   ],
   "source": [
    "stock_series.sort_index(ascending=False)"
   ]
  },
  {
   "cell_type": "markdown",
   "id": "9569ffd9",
   "metadata": {},
   "source": [
    "## Inclusion"
   ]
  },
  {
   "cell_type": "markdown",
   "id": "c364d3d3",
   "metadata": {},
   "source": [
    "`in` keyword in indexes:"
   ]
  },
  {
   "cell_type": "code",
   "execution_count": 21,
   "id": "1ba88234",
   "metadata": {},
   "outputs": [
    {
     "data": {
      "text/plain": [
       "True"
      ]
     },
     "execution_count": 21,
     "metadata": {},
     "output_type": "execute_result"
    }
   ],
   "source": [
    "0 in stock_series"
   ]
  },
  {
   "cell_type": "markdown",
   "id": "967d7065",
   "metadata": {},
   "source": [
    "`in` keyword in values:"
   ]
  },
  {
   "cell_type": "code",
   "execution_count": 22,
   "id": "adfc9b40",
   "metadata": {},
   "outputs": [
    {
     "data": {
      "text/plain": [
       "True"
      ]
     },
     "execution_count": 22,
     "metadata": {},
     "output_type": "execute_result"
    }
   ],
   "source": [
    "782.22 in stock_series.values"
   ]
  },
  {
   "cell_type": "markdown",
   "id": "493a9ef4",
   "metadata": {},
   "source": [
    "## Extract by index or label"
   ]
  },
  {
   "cell_type": "code",
   "execution_count": 33,
   "id": "c6258470",
   "metadata": {},
   "outputs": [
    {
     "name": "stdout",
     "output_type": "stream",
     "text": [
      "Extract by index: gal\n",
      "Extract by label: gal\n",
      "Extract by index: gal\n",
      "Extract by index (default vlaue): Nonsense\n",
      "Extract by label: gal\n",
      "Extract by label (default vlaue): Nonsense\n",
      "Multiple (default vlaue): Nonsense\n"
     ]
    }
   ],
   "source": [
    "example_extraction = pd.Series(data={\"bee\": \"gal\", \"doo\": \"Miryam\"})\n",
    "print(f\"Extract by index: {example_extraction[0]}\")\n",
    "print(f\"Extract by label: {example_extraction['bee']}\")\n",
    "print(f\"Extract by index: {example_extraction.get(0)}\")\n",
    "print(f\"Extract by index (default vlaue): {example_extraction.get(10, 'Nonsense')}\")\n",
    "print(f\"Extract by label: {example_extraction.get('bee')}\")\n",
    "print(f\"Extract by label (default vlaue): {example_extraction.get('ori', 'Nonsense')}\")\n",
    "print(f\"Multiple (default vlaue): {example_extraction.get([0,20] , 'Nonsense')}\")"
   ]
  },
  {
   "cell_type": "markdown",
   "id": "895818e7",
   "metadata": {},
   "source": [
    "## Overwrite a Series value "
   ]
  },
  {
   "cell_type": "code",
   "execution_count": 40,
   "id": "8b243ef3",
   "metadata": {},
   "outputs": [
    {
     "data": {
      "text/plain": [
       "0     Bulbasaur\n",
       "1       Ivysaur\n",
       "2      Venusaur\n",
       "3    Charmander\n",
       "4    Charmeleon\n",
       "Name: Pokemon, dtype: object"
      ]
     },
     "execution_count": 40,
     "metadata": {},
     "output_type": "execute_result"
    }
   ],
   "source": [
    "pokemon = pd.read_csv(\"pokemon.csv\", usecols=[\"Pokemon\"]).squeeze(\"columns\")\n",
    "pokemon.head()"
   ]
  },
  {
   "cell_type": "code",
   "execution_count": 43,
   "id": "b7e79246",
   "metadata": {},
   "outputs": [
    {
     "data": {
      "text/plain": [
       "717       Zygarde\n",
       "718       Diancie\n",
       "719         Hoopa\n",
       "720     Volcanion\n",
       "1500          Gal\n",
       "Name: Pokemon, dtype: object"
      ]
     },
     "execution_count": 43,
     "metadata": {},
     "output_type": "execute_result"
    }
   ],
   "source": [
    "pokemon[1500] = \"Gal\"\n",
    "pokemon.tail()"
   ]
  },
  {
   "cell_type": "code",
   "execution_count": 46,
   "id": "6ef64c78",
   "metadata": {},
   "outputs": [
    {
     "data": {
      "text/plain": [
       "0     Bulbasaur\n",
       "1           Gal\n",
       "2        Miryam\n",
       "3    Charmander\n",
       "4           Ori\n",
       "Name: Pokemon, dtype: object"
      ]
     },
     "execution_count": 46,
     "metadata": {},
     "output_type": "execute_result"
    }
   ],
   "source": [
    "pokemon[[1,2,4]] = [\"Gal\", \"Miryam\", \"Ori\"]\n",
    "pokemon.head()"
   ]
  },
  {
   "cell_type": "code",
   "execution_count": 49,
   "id": "6f986231",
   "metadata": {},
   "outputs": [
    {
     "data": {
      "text/plain": [
       "Pokemon\n",
       "Bulbasaur        Gal\n",
       "Ivysaur       Miryam\n",
       "Venusaur       Grass\n",
       "Charmander      Fire\n",
       "Charmeleon      Fire\n",
       "Name: Type, dtype: object"
      ]
     },
     "execution_count": 49,
     "metadata": {},
     "output_type": "execute_result"
    }
   ],
   "source": [
    "pokemon = pd.read_csv(\"pokemon.csv\", index_col=\"Pokemon\").squeeze(\"columns\")\n",
    "pokemon[[\"Bulbasaur\", \"Ivysaur\"]] = [\"Gal\", \"Miryam\"]\n",
    "pokemon.head()"
   ]
  },
  {
   "cell_type": "markdown",
   "id": "aba39858",
   "metadata": {},
   "source": [
    "## Copy method"
   ]
  },
  {
   "cell_type": "markdown",
   "id": "2b2eb856",
   "metadata": {},
   "source": [
    "When not cooping it will have side effect by changing underlying objects:"
   ]
  },
  {
   "cell_type": "code",
   "execution_count": 54,
   "id": "72d1ef4f",
   "metadata": {},
   "outputs": [],
   "source": [
    "pokemon_df = pd.read_csv(\"pokemon.csv\", index_col=\"Pokemon\")\n",
    "pokemon_series = pokemon_df.squeeze(\"columns\")"
   ]
  },
  {
   "cell_type": "code",
   "execution_count": 56,
   "id": "c797ccd3",
   "metadata": {},
   "outputs": [
    {
     "data": {
      "text/plain": [
       "Pokemon\n",
       "Bulbasaur     Whatever\n",
       "Ivysaur          Grass\n",
       "Venusaur         Grass\n",
       "Charmander        Fire\n",
       "Charmeleon        Fire\n",
       "Name: Type, dtype: object"
      ]
     },
     "execution_count": 56,
     "metadata": {},
     "output_type": "execute_result"
    }
   ],
   "source": [
    "pokemon_series[0] = \"Whatever\"\n",
    "pokemon_series.head()"
   ]
  },
  {
   "cell_type": "code",
   "execution_count": 57,
   "id": "21d0d937",
   "metadata": {},
   "outputs": [
    {
     "data": {
      "text/html": [
       "<div>\n",
       "<style scoped>\n",
       "    .dataframe tbody tr th:only-of-type {\n",
       "        vertical-align: middle;\n",
       "    }\n",
       "\n",
       "    .dataframe tbody tr th {\n",
       "        vertical-align: top;\n",
       "    }\n",
       "\n",
       "    .dataframe thead th {\n",
       "        text-align: right;\n",
       "    }\n",
       "</style>\n",
       "<table border=\"1\" class=\"dataframe\">\n",
       "  <thead>\n",
       "    <tr style=\"text-align: right;\">\n",
       "      <th></th>\n",
       "      <th>Type</th>\n",
       "    </tr>\n",
       "    <tr>\n",
       "      <th>Pokemon</th>\n",
       "      <th></th>\n",
       "    </tr>\n",
       "  </thead>\n",
       "  <tbody>\n",
       "    <tr>\n",
       "      <th>Bulbasaur</th>\n",
       "      <td>Whatever</td>\n",
       "    </tr>\n",
       "    <tr>\n",
       "      <th>Ivysaur</th>\n",
       "      <td>Grass</td>\n",
       "    </tr>\n",
       "    <tr>\n",
       "      <th>Venusaur</th>\n",
       "      <td>Grass</td>\n",
       "    </tr>\n",
       "    <tr>\n",
       "      <th>Charmander</th>\n",
       "      <td>Fire</td>\n",
       "    </tr>\n",
       "    <tr>\n",
       "      <th>Charmeleon</th>\n",
       "      <td>Fire</td>\n",
       "    </tr>\n",
       "  </tbody>\n",
       "</table>\n",
       "</div>"
      ],
      "text/plain": [
       "                Type\n",
       "Pokemon             \n",
       "Bulbasaur   Whatever\n",
       "Ivysaur        Grass\n",
       "Venusaur       Grass\n",
       "Charmander      Fire\n",
       "Charmeleon      Fire"
      ]
     },
     "execution_count": 57,
     "metadata": {},
     "output_type": "execute_result"
    }
   ],
   "source": [
    "pokemon_df.head()"
   ]
  },
  {
   "cell_type": "code",
   "execution_count": 58,
   "id": "443c3879",
   "metadata": {},
   "outputs": [],
   "source": [
    "pokemon_df = pd.read_csv(\"pokemon.csv\", index_col=\"Pokemon\")\n",
    "pokemon_series = pokemon_df.squeeze(\"columns\").copy()"
   ]
  },
  {
   "cell_type": "code",
   "execution_count": 59,
   "id": "a6944e9e",
   "metadata": {},
   "outputs": [
    {
     "data": {
      "text/plain": [
       "Pokemon\n",
       "Bulbasaur     Whatever\n",
       "Ivysaur          Grass\n",
       "Venusaur         Grass\n",
       "Charmander        Fire\n",
       "Charmeleon        Fire\n",
       "Name: Type, dtype: object"
      ]
     },
     "execution_count": 59,
     "metadata": {},
     "output_type": "execute_result"
    }
   ],
   "source": [
    "pokemon_series[0] = \"Whatever\"\n",
    "pokemon_series.head()"
   ]
  },
  {
   "cell_type": "code",
   "execution_count": 60,
   "id": "c71ea490",
   "metadata": {},
   "outputs": [
    {
     "data": {
      "text/html": [
       "<div>\n",
       "<style scoped>\n",
       "    .dataframe tbody tr th:only-of-type {\n",
       "        vertical-align: middle;\n",
       "    }\n",
       "\n",
       "    .dataframe tbody tr th {\n",
       "        vertical-align: top;\n",
       "    }\n",
       "\n",
       "    .dataframe thead th {\n",
       "        text-align: right;\n",
       "    }\n",
       "</style>\n",
       "<table border=\"1\" class=\"dataframe\">\n",
       "  <thead>\n",
       "    <tr style=\"text-align: right;\">\n",
       "      <th></th>\n",
       "      <th>Type</th>\n",
       "    </tr>\n",
       "    <tr>\n",
       "      <th>Pokemon</th>\n",
       "      <th></th>\n",
       "    </tr>\n",
       "  </thead>\n",
       "  <tbody>\n",
       "    <tr>\n",
       "      <th>Bulbasaur</th>\n",
       "      <td>Grass</td>\n",
       "    </tr>\n",
       "    <tr>\n",
       "      <th>Ivysaur</th>\n",
       "      <td>Grass</td>\n",
       "    </tr>\n",
       "    <tr>\n",
       "      <th>Venusaur</th>\n",
       "      <td>Grass</td>\n",
       "    </tr>\n",
       "    <tr>\n",
       "      <th>Charmander</th>\n",
       "      <td>Fire</td>\n",
       "    </tr>\n",
       "    <tr>\n",
       "      <th>Charmeleon</th>\n",
       "      <td>Fire</td>\n",
       "    </tr>\n",
       "  </tbody>\n",
       "</table>\n",
       "</div>"
      ],
      "text/plain": [
       "             Type\n",
       "Pokemon          \n",
       "Bulbasaur   Grass\n",
       "Ivysaur     Grass\n",
       "Venusaur    Grass\n",
       "Charmander   Fire\n",
       "Charmeleon   Fire"
      ]
     },
     "execution_count": 60,
     "metadata": {},
     "output_type": "execute_result"
    }
   ],
   "source": [
    "pokemon_df.head()"
   ]
  },
  {
   "cell_type": "markdown",
   "id": "1b5ec1a8",
   "metadata": {},
   "source": [
    "## Inplace parameter (Going to be deprecated)"
   ]
  },
  {
   "cell_type": "code",
   "execution_count": 71,
   "id": "477484b2",
   "metadata": {},
   "outputs": [],
   "source": [
    "stock_google_series = (\n",
    "    pd\n",
    "    .read_csv(\"google_stock_price.csv\", usecols=[\"Stock Price\"])\n",
    "    .squeeze(\"columns\")\n",
    "    .copy()\n",
    ")"
   ]
  },
  {
   "cell_type": "code",
   "execution_count": 72,
   "id": "ed43a275",
   "metadata": {},
   "outputs": [
    {
     "data": {
      "text/plain": [
       "0    50.12\n",
       "1    54.10\n",
       "2    54.65\n",
       "3    52.38\n",
       "4    52.95\n",
       "Name: Stock Price, dtype: float64"
      ]
     },
     "execution_count": 72,
     "metadata": {},
     "output_type": "execute_result"
    }
   ],
   "source": [
    "stock_google_series.sort_values()\n",
    "stock_google_series.head()"
   ]
  },
  {
   "cell_type": "code",
   "execution_count": 75,
   "id": "0d89ceb7",
   "metadata": {},
   "outputs": [
    {
     "data": {
      "text/plain": [
       "11    49.95\n",
       "9     50.07\n",
       "0     50.12\n",
       "10    50.70\n",
       "12    50.74\n",
       "Name: Stock Price, dtype: float64"
      ]
     },
     "execution_count": 75,
     "metadata": {},
     "output_type": "execute_result"
    }
   ],
   "source": [
    "stock_google_series.sort_values(inplace=True)\n",
    "stock_google_series.head()"
   ]
  },
  {
   "cell_type": "code",
   "execution_count": 76,
   "id": "323d24cf",
   "metadata": {},
   "outputs": [
    {
     "ename": "ValueError",
     "evalue": "This Series is a view of some other array, to sort in-place you must create a copy",
     "output_type": "error",
     "traceback": [
      "\u001b[0;31m---------------------------------------------------------------------------\u001b[0m",
      "\u001b[0;31mValueError\u001b[0m                                Traceback (most recent call last)",
      "Input \u001b[0;32mIn [76]\u001b[0m, in \u001b[0;36m<cell line: 6>\u001b[0;34m()\u001b[0m\n\u001b[1;32m      1\u001b[0m stock_google_series \u001b[38;5;241m=\u001b[39m (\n\u001b[1;32m      2\u001b[0m     pd\n\u001b[1;32m      3\u001b[0m     \u001b[38;5;241m.\u001b[39mread_csv(\u001b[38;5;124m\"\u001b[39m\u001b[38;5;124mgoogle_stock_price.csv\u001b[39m\u001b[38;5;124m\"\u001b[39m, usecols\u001b[38;5;241m=\u001b[39m[\u001b[38;5;124m\"\u001b[39m\u001b[38;5;124mStock Price\u001b[39m\u001b[38;5;124m\"\u001b[39m])\n\u001b[1;32m      4\u001b[0m     \u001b[38;5;241m.\u001b[39msqueeze(\u001b[38;5;124m\"\u001b[39m\u001b[38;5;124mcolumns\u001b[39m\u001b[38;5;124m\"\u001b[39m)\n\u001b[1;32m      5\u001b[0m )\n\u001b[0;32m----> 6\u001b[0m \u001b[43mstock_google_series\u001b[49m\u001b[38;5;241;43m.\u001b[39;49m\u001b[43msort_values\u001b[49m\u001b[43m(\u001b[49m\u001b[43minplace\u001b[49m\u001b[38;5;241;43m=\u001b[39;49m\u001b[38;5;28;43;01mTrue\u001b[39;49;00m\u001b[43m)\u001b[49m\n",
      "File \u001b[0;32m~/opt/anaconda3/envs/pandas-course/lib/python3.10/site-packages/pandas/util/_decorators.py:311\u001b[0m, in \u001b[0;36mdeprecate_nonkeyword_arguments.<locals>.decorate.<locals>.wrapper\u001b[0;34m(*args, **kwargs)\u001b[0m\n\u001b[1;32m    305\u001b[0m \u001b[38;5;28;01mif\u001b[39;00m \u001b[38;5;28mlen\u001b[39m(args) \u001b[38;5;241m>\u001b[39m num_allow_args:\n\u001b[1;32m    306\u001b[0m     warnings\u001b[38;5;241m.\u001b[39mwarn(\n\u001b[1;32m    307\u001b[0m         msg\u001b[38;5;241m.\u001b[39mformat(arguments\u001b[38;5;241m=\u001b[39marguments),\n\u001b[1;32m    308\u001b[0m         \u001b[38;5;167;01mFutureWarning\u001b[39;00m,\n\u001b[1;32m    309\u001b[0m         stacklevel\u001b[38;5;241m=\u001b[39mstacklevel,\n\u001b[1;32m    310\u001b[0m     )\n\u001b[0;32m--> 311\u001b[0m \u001b[38;5;28;01mreturn\u001b[39;00m \u001b[43mfunc\u001b[49m\u001b[43m(\u001b[49m\u001b[38;5;241;43m*\u001b[39;49m\u001b[43margs\u001b[49m\u001b[43m,\u001b[49m\u001b[43m \u001b[49m\u001b[38;5;241;43m*\u001b[39;49m\u001b[38;5;241;43m*\u001b[39;49m\u001b[43mkwargs\u001b[49m\u001b[43m)\u001b[49m\n",
      "File \u001b[0;32m~/opt/anaconda3/envs/pandas-course/lib/python3.10/site-packages/pandas/core/series.py:3506\u001b[0m, in \u001b[0;36mSeries.sort_values\u001b[0;34m(self, axis, ascending, inplace, kind, na_position, ignore_index, key)\u001b[0m\n\u001b[1;32m   3504\u001b[0m \u001b[38;5;66;03m# GH 5856/5853\u001b[39;00m\n\u001b[1;32m   3505\u001b[0m \u001b[38;5;28;01mif\u001b[39;00m inplace \u001b[38;5;129;01mand\u001b[39;00m \u001b[38;5;28mself\u001b[39m\u001b[38;5;241m.\u001b[39m_is_cached:\n\u001b[0;32m-> 3506\u001b[0m     \u001b[38;5;28;01mraise\u001b[39;00m \u001b[38;5;167;01mValueError\u001b[39;00m(\n\u001b[1;32m   3507\u001b[0m         \u001b[38;5;124m\"\u001b[39m\u001b[38;5;124mThis Series is a view of some other array, to \u001b[39m\u001b[38;5;124m\"\u001b[39m\n\u001b[1;32m   3508\u001b[0m         \u001b[38;5;124m\"\u001b[39m\u001b[38;5;124msort in-place you must create a copy\u001b[39m\u001b[38;5;124m\"\u001b[39m\n\u001b[1;32m   3509\u001b[0m     )\n\u001b[1;32m   3511\u001b[0m \u001b[38;5;28;01mif\u001b[39;00m is_list_like(ascending):\n\u001b[1;32m   3512\u001b[0m     ascending \u001b[38;5;241m=\u001b[39m cast(Sequence[Union[\u001b[38;5;28mbool\u001b[39m, \u001b[38;5;28mint\u001b[39m]], ascending)\n",
      "\u001b[0;31mValueError\u001b[0m: This Series is a view of some other array, to sort in-place you must create a copy"
     ]
    }
   ],
   "source": [
    "stock_google_series = (\n",
    "    pd\n",
    "    .read_csv(\"google_stock_price.csv\", usecols=[\"Stock Price\"])\n",
    "    .squeeze(\"columns\")\n",
    ")\n",
    "stock_google_series.sort_values(inplace=True)"
   ]
  },
  {
   "cell_type": "markdown",
   "id": "9c52f4db",
   "metadata": {},
   "source": [
    "## Math methods on Series object"
   ]
  },
  {
   "cell_type": "code",
   "execution_count": 80,
   "id": "3e2579ef",
   "metadata": {},
   "outputs": [
    {
     "name": "stdout",
     "output_type": "stream",
     "text": [
      "Count (Not missing values): 3012\n",
      "Sum: 1006942.0\n",
      "Mean: 334.31009296148744\n",
      "Product: inf\n",
      "Min: 49.95\n",
      "Max: 782.22\n",
      "Average: 782.22\n"
     ]
    },
    {
     "data": {
      "text/plain": [
       "count    3012.000000\n",
       "mean      334.310093\n",
       "std       173.187205\n",
       "min        49.950000\n",
       "25%       218.045000\n",
       "50%       283.315000\n",
       "75%       443.000000\n",
       "max       782.220000\n",
       "Name: Stock Price, dtype: float64"
      ]
     },
     "execution_count": 80,
     "metadata": {},
     "output_type": "execute_result"
    }
   ],
   "source": [
    "print(f\"Count (Not missing values): {stock_google_series.count()}\")\n",
    "print(f\"Sum: {stock_google_series.sum()}\")\n",
    "print(f\"Mean: {stock_google_series.mean()}\")\n",
    "print(f\"Product: {stock_google_series.product()}\")\n",
    "print(f\"Min: {stobck_google_series.min()}\")\n",
    "print(f\"Max: {stock_google_series.max()}\")\n",
    "print(f\"Average: {stock_google_series.max()}\")\n",
    "stock_google_series.describe()"
   ]
  },
  {
   "cell_type": "markdown",
   "id": "f03fe30a",
   "metadata": {},
   "source": [
    "## Broadcasting (Performing meth operation on all series values)"
   ]
  },
  {
   "cell_type": "code",
   "execution_count": 83,
   "id": "66933805",
   "metadata": {},
   "outputs": [
    {
     "data": {
      "text/plain": [
       "0    50.12\n",
       "1    54.10\n",
       "2    54.65\n",
       "3    52.38\n",
       "4    52.95\n",
       "Name: Stock Price, dtype: float64"
      ]
     },
     "execution_count": 83,
     "metadata": {},
     "output_type": "execute_result"
    }
   ],
   "source": [
    "stock_google_series = (\n",
    "    pd\n",
    "    .read_csv(\"google_stock_price.csv\", usecols=[\"Stock Price\"])\n",
    "    .squeeze(\"columns\")\n",
    ")\n",
    "stock_google_series.head()"
   ]
  },
  {
   "cell_type": "code",
   "execution_count": 86,
   "id": "895ff80e",
   "metadata": {},
   "outputs": [
    {
     "data": {
      "text/plain": [
       "0        501.2\n",
       "1        541.0\n",
       "2        546.5\n",
       "3        523.8\n",
       "4        529.5\n",
       "         ...  \n",
       "3007    7728.8\n",
       "3008    7710.7\n",
       "3009    7731.8\n",
       "3010    7716.1\n",
       "3011    7822.2\n",
       "Name: Stock Price, Length: 3012, dtype: float64"
      ]
     },
     "execution_count": 86,
     "metadata": {},
     "output_type": "execute_result"
    }
   ],
   "source": [
    "stock_google_series + 10\n",
    "stock_google_series.add(10)\n",
    "stock_google_series - 10\n",
    "stock_google_series * 10"
   ]
  },
  {
   "cell_type": "markdown",
   "id": "7eab5059",
   "metadata": {},
   "source": [
    "## The value_counts method"
   ]
  },
  {
   "cell_type": "code",
   "execution_count": 95,
   "id": "2d4ee03c",
   "metadata": {},
   "outputs": [
    {
     "data": {
      "text/plain": [
       "Pokemon\n",
       "Bulbasaur     Grass\n",
       "Ivysaur       Grass\n",
       "Venusaur      Grass\n",
       "Charmander     Fire\n",
       "Charmeleon     Fire\n",
       "Name: Type, dtype: object"
      ]
     },
     "execution_count": 95,
     "metadata": {},
     "output_type": "execute_result"
    }
   ],
   "source": [
    "pokemon = pd.read_csv(\"pokemon.csv\", index_col=\"Pokemon\").squeeze(\"columns\")\n",
    "pokemon.headad()"
   ]
  },
  {
   "cell_type": "code",
   "execution_count": 96,
   "id": "556dc334",
   "metadata": {},
   "outputs": [
    {
     "data": {
      "text/plain": [
       "Water     105\n",
       "Normal     93\n",
       "Grass      66\n",
       "Bug        63\n",
       "Fire       47\n",
       "Name: Type, dtype: int64"
      ]
     },
     "execution_count": 96,
     "metadata": {},
     "output_type": "execute_result"
    }
   ],
   "source": [
    "pokemon.value_counts().head()"
   ]
  },
  {
   "cell_type": "code",
   "execution_count": 98,
   "id": "d04a29ef",
   "metadata": {},
   "outputs": [
    {
     "data": {
      "text/plain": [
       "Water       14.563107\n",
       "Normal      12.898752\n",
       "Grass        9.153953\n",
       "Bug          8.737864\n",
       "Fire         6.518724\n",
       "Psychic      6.518724\n",
       "Rock         5.686546\n",
       "Electric     4.993065\n",
       "Ground       4.160888\n",
       "Poison       3.883495\n",
       "Dark         3.883495\n",
       "Fighting     3.467406\n",
       "Dragon       3.328710\n",
       "Ghost        3.190014\n",
       "Ice          3.190014\n",
       "Steel        3.051318\n",
       "Fairy        2.357836\n",
       "Flying       0.416089\n",
       "Name: Type, dtype: float64"
      ]
     },
     "execution_count": 98,
     "metadata": {},
     "output_type": "execute_result"
    }
   ],
   "source": [
    "pokemon.value_counts(normalize=True) * 100"
   ]
  },
  {
   "cell_type": "code",
   "execution_count": 99,
   "id": "fefed8ca",
   "metadata": {},
   "outputs": [
    {
     "data": {
      "text/plain": [
       "Grass        66\n",
       "Fire         47\n",
       "Water       105\n",
       "Bug          63\n",
       "Normal       93\n",
       "Poison       28\n",
       "Electric     36\n",
       "Ground       30\n",
       "Fairy        17\n",
       "Fighting     25\n",
       "Psychic      47\n",
       "Rock         41\n",
       "Ghost        23\n",
       "Ice          23\n",
       "Dragon       24\n",
       "Dark         28\n",
       "Steel        22\n",
       "Flying        3\n",
       "Name: Type, dtype: int64"
      ]
     },
     "execution_count": 99,
     "metadata": {},
     "output_type": "execute_result"
    }
   ],
   "source": [
    "pokemon.value_counts(sort=False)"
   ]
  },
  {
   "cell_type": "code",
   "execution_count": 100,
   "id": "9b9a6396",
   "metadata": {},
   "outputs": [
    {
     "data": {
      "text/plain": [
       "721"
      ]
     },
     "execution_count": 100,
     "metadata": {},
     "output_type": "execute_result"
    }
   ],
   "source": [
    "len(pokemon)"
   ]
  },
  {
   "cell_type": "markdown",
   "id": "bfb7d8c3",
   "metadata": {},
   "source": [
    "## Apply method"
   ]
  },
  {
   "cell_type": "code",
   "execution_count": 101,
   "id": "36711311",
   "metadata": {},
   "outputs": [
    {
     "data": {
      "text/plain": [
       "Pokemon\n",
       "Bulbasaur     5\n",
       "Ivysaur       5\n",
       "Venusaur      5\n",
       "Charmander    4\n",
       "Charmeleon    4\n",
       "             ..\n",
       "Yveltal       4\n",
       "Zygarde       6\n",
       "Diancie       4\n",
       "Hoopa         7\n",
       "Volcanion     4\n",
       "Name: Type, Length: 721, dtype: int64"
      ]
     },
     "execution_count": 101,
     "metadata": {},
     "output_type": "execute_result"
    }
   ],
   "source": [
    "pokemon.apply(len)"
   ]
  },
  {
   "cell_type": "code",
   "execution_count": 102,
   "id": "2e4d6f9c",
   "metadata": {},
   "outputs": [
    {
     "data": {
      "text/plain": [
       "Pokemon\n",
       "Bulbasaur     Classic\n",
       "Ivysaur       Classic\n",
       "Venusaur      Classic\n",
       "Charmander    Classic\n",
       "Charmeleon    Classic\n",
       "               ...   \n",
       "Yveltal           TBD\n",
       "Zygarde           TBD\n",
       "Diancie           TBD\n",
       "Hoopa             TBD\n",
       "Volcanion     Classic\n",
       "Name: Type, Length: 721, dtype: object"
      ]
     },
     "execution_count": 102,
     "metadata": {},
     "output_type": "execute_result"
    }
   ],
   "source": [
    "def rank_pokemon(pokemon_type):\n",
    "    if pokemon_type in [\"Grass\", \"Fire\", \"Water\"]:\n",
    "        return \"Classic\"\n",
    "    elif pokemon_type == \"Normal\":\n",
    "        return \"Boring\"\n",
    "    return \"TBD\"\n",
    "\n",
    "pokemon.apply(rank_pokemon)"
   ]
  },
  {
   "cell_type": "markdown",
   "id": "7837202d",
   "metadata": {},
   "source": [
    "## Map method"
   ]
  },
  {
   "cell_type": "code",
   "execution_count": 104,
   "id": "76c6c643",
   "metadata": {},
   "outputs": [
    {
     "data": {
      "text/plain": [
       "Pokemon\n",
       "Bulbasaur     Classic\n",
       "Ivysaur       Classic\n",
       "Venusaur      Classic\n",
       "Charmander    Classic\n",
       "Charmeleon    Classic\n",
       "               ...   \n",
       "Yveltal           NaN\n",
       "Zygarde           NaN\n",
       "Diancie           NaN\n",
       "Hoopa             NaN\n",
       "Volcanion     Classic\n",
       "Name: Type, Length: 721, dtype: object"
      ]
     },
     "execution_count": 104,
     "metadata": {},
     "output_type": "execute_result"
    }
   ],
   "source": [
    "mapping = {\n",
    "    \"Grass\": \"Classic\",\n",
    "    \"Fire\": \"Classic\",\n",
    "    \"Water\": \"Classic\",\n",
    "    \"Normal\": \"Boring\"\n",
    "}\n",
    "pokemon.map(mapping)"
   ]
  }
 ],
 "metadata": {
  "kernelspec": {
   "display_name": "Python 3 (ipykernel)",
   "language": "python",
   "name": "python3"
  },
  "language_info": {
   "codemirror_mode": {
    "name": "ipython",
    "version": 3
   },
   "file_extension": ".py",
   "mimetype": "text/x-python",
   "name": "python",
   "nbconvert_exporter": "python",
   "pygments_lexer": "ipython3",
   "version": "3.10.4"
  }
 },
 "nbformat": 4,
 "nbformat_minor": 5
}
